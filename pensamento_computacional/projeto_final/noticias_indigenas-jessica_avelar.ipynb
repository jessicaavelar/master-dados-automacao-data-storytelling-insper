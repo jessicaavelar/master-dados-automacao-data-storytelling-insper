{
 "cells": [
  {
   "cell_type": "markdown",
   "id": "1026fca1",
   "metadata": {},
   "source": [
    "# Notícias Indígenas Yanomami\n",
    "\n",
    "*Notebook com o trabalho final da disciplina de Pensamento Computacional do Master em Jornalismo de Dados, Automação e Data Storytelling do Insper, disciplina ministrada pelo Álvaro Justen.*\n",
    "\n",
    "\n",
    "### Objetivo\n",
    "\n",
    "Acessar a URL que contém as notícias da [Terras Indígenas Yanomami](https://www.terrasindigenas.org.br/noticias/4016/TI/500/1), entrar em cada uma delas e verificar se cita o Rio Uraricoera, em caso afirmativo, salvar o link em um arquivo CSV.\n",
    "\n",
    "\n",
    "### Resultado\n",
    "\n",
    "Foi criado um código em que é possível extrair as notícias de qualquer uma das Terras Indígenas listadas no site, também é possível fazer a pesquisa que desejar dentro das notícias."
   ]
  },
  {
   "cell_type": "code",
   "execution_count": 6,
   "id": "a095e4b5",
   "metadata": {},
   "outputs": [],
   "source": [
    "import csv\n",
    "\n",
    "import requests\n",
    "from bs4 import BeautifulSoup as bs"
   ]
  },
  {
   "cell_type": "code",
   "execution_count": 7,
   "id": "d1b0f479",
   "metadata": {},
   "outputs": [],
   "source": [
    "class NoticiasIndigenas:\n",
    "    \"\"\" A classe extrai notícias de qualquer uma das Terras Indígenas listadas no site terrasingenas.org.br, também pode\n",
    "    ser usada para verificar qual das notícias contêm determminada palavra e gravar as informações em um arquivo CSV\n",
    "    (Data, Título e Link).\n",
    "    \n",
    "    Deve-se passar a URL.\n",
    "    Caso queira verificar se alguma notícia contém a palavra, deve-se definir a palavra de interesse.\n",
    "    Para gerar o arquivo CSV é necessário o nome do arquivo.\n",
    "    \"\"\"\n",
    "\n",
    "    \n",
    "    def baixar_html(self, site):\n",
    "        \"\"\" Função que baixa o html do site. \"\"\"\n",
    "        \n",
    "        r = requests.get(site)\n",
    "        self.html = bs(r.text, \"html.parser\")\n",
    "        \n",
    "    def noticias_site(self):\n",
    "        \"\"\" A função extrai todas as notícias do site. \"\"\"\n",
    "        \n",
    "        lista = self.html.find(\"ul\", {\"id\": \"list-noticias\"})     # Lista de notíciais do site - ul é o marcador do site\n",
    "        tag_a = lista.find_all(\"a\")     # tags \"a\" onde estão as informações\n",
    "        # Separa link + título + data\n",
    "        self.noticias_ti = []     # Lista onde serão armazenadas as notícias do site\n",
    "        for tag in tag_a:\n",
    "            texto = tag.text     # Título das notícias e data\n",
    "            titulo = texto.split(\"-\")     # Separa o título e a data da notícia\n",
    "            url = \"https://terrasindigenas.org.br\" + tag.attrs[\"href\"]     # Link das notícias\n",
    "            self.noticias_ti.append({     # Dicionário que armazena as informações do site\n",
    "                \"Data\": titulo[0],\n",
    "                \"Título\": titulo[1],\n",
    "                \"Link\": url,\n",
    "            })\n",
    "       \n",
    "    \n",
    "    def noticias_especificas(self, palavra= \"\"):\n",
    "        \"\"\" A função extrai apenas as notícias que contêm a palavra definida. \"\"\"\n",
    "        \n",
    "        especificas = []     # Lista onde serão armazenadas as notícias de nosso interesse\n",
    "        for noticia in self.noticias_ti:\n",
    "            r = requests.get(noticia[\"Link\"]).text     # Entra em cada link\n",
    "            if palavra in r.lower():     # Verifica se tem a palavra que estamos procurando, se tiver, armazena na variável\n",
    "                especificas.append(noticia)\n",
    "                self.especificas = especificas\n",
    "    \n",
    "    \n",
    "    def escreve_csv(self, nome_arquivo):\n",
    "        \"\"\" A função escreve no csv os resultados encontrados. \"\"\"\n",
    "        \n",
    "        arquivo = open(nome_arquivo, mode=\"w\")\n",
    "        escritor = csv.DictWriter(arquivo, fieldnames=[\"Data\", \"Título\", \"Link\"])  \n",
    "        escritor.writeheader()\n",
    "        for linha in self.especificas:\n",
    "            escritor.writerow(linha)\n",
    "        arquivo.close()"
   ]
  },
  {
   "cell_type": "code",
   "execution_count": 8,
   "id": "93eb612e",
   "metadata": {},
   "outputs": [],
   "source": [
    "site = \"https://terrasindigenas.org.br/noticias/4016/TI/500/1\"\n",
    "palavra = \"uraricoera\"\n",
    "nome_arquivo = \"uraricoera_yanomami.csv\"\n",
    "\n",
    "extrator = NoticiasIndigenas()\n",
    "extrator.baixar_html(site)\n",
    "extrator.noticias_site()\n",
    "extrator.noticias_especificas(palavra)\n",
    "extrator.escreve_csv(nome_arquivo)"
   ]
  }
 ],
 "metadata": {
  "kernelspec": {
   "display_name": "Python 3",
   "language": "python",
   "name": "python3"
  },
  "language_info": {
   "codemirror_mode": {
    "name": "ipython",
    "version": 3
   },
   "file_extension": ".py",
   "mimetype": "text/x-python",
   "name": "python",
   "nbconvert_exporter": "python",
   "pygments_lexer": "ipython3",
   "version": "3.8.8"
  }
 },
 "nbformat": 4,
 "nbformat_minor": 5
}
