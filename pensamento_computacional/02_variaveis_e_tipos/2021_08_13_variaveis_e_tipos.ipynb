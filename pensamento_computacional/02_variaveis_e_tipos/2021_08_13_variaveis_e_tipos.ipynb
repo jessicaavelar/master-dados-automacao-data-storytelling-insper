{
  "nbformat": 4,
  "nbformat_minor": 0,
  "metadata": {
    "colab": {
      "name": "2021_08_13_variaveis_e_tipos.ipynb",
      "provenance": []
    },
    "kernelspec": {
      "name": "python3",
      "display_name": "Python 3"
    },
    "language_info": {
      "name": "python"
    }
  },
  "cells": [
    {
      "cell_type": "markdown",
      "metadata": {
        "id": "vfKU1t1-tg4Z"
      },
      "source": [
        "## Nomes de variáveis\n",
        "\n",
        "Vamos armqzenar alguns dados do usuário em variáveis, mas lembre-se de que os **nomes das variáveis** possuem regras:\n",
        "\n",
        "\n",
        "*   Devem começar com letras ou \"_\";\n",
        "*   Podem conter letras (inclusive \"especiais\", com acentos), números e \"_\";\n",
        "*   Não podem conter espaços, nem outros caracteres, como \"-\", \"(\".\n",
        "\n",
        "\n",
        "\n"
      ]
    },
    {
      "cell_type": "code",
      "metadata": {
        "id": "e8xBl0tUjFHZ"
      },
      "source": [
        "# nome_pessoa = input(\"Digite o seu nome: \")          # Correto\n",
        "# nome pessoa = input(\"Digite o seu nome: \")          # Incorreto"
      ],
      "execution_count": null,
      "outputs": []
    },
    {
      "cell_type": "code",
      "metadata": {
        "colab": {
          "base_uri": "https://localhost:8080/"
        },
        "id": "hmfAXLG8kbX0",
        "outputId": "fe6d8789-3997-4f48-bab6-4d7d06779812"
      },
      "source": [
        "print(\"Censo 2021, estilo faça-você mesmo: \")\n",
        "nome = input(\"Qual seu nome? \")\n",
        "ano_nascimento = input(\"Em que ano você nasceu? \")"
      ],
      "execution_count": null,
      "outputs": [
        {
          "name": "stdout",
          "output_type": "stream",
          "text": [
            "Censo 2021, estilo faça-você mesmo: \n",
            "Qual seu nome? Jéssica\n",
            "Em que ano você nasceu? 1990\n"
          ]
        }
      ]
    },
    {
      "cell_type": "markdown",
      "metadata": {
        "id": "nXl96_EwuOlY"
      },
      "source": [
        "## Cálculo da idade\n",
        "\n",
        "A função `input` nos devolve sempre um valor do tipo `str` e, por isso, caso seja esperado que a pessoa digite um número, precimos converter explicitamente. Para isso, podemos usar as funções `int` (para números inteiros) ou `float` (para números com casas decimais):"
      ]
    },
    {
      "cell_type": "code",
      "metadata": {
        "colab": {
          "base_uri": "https://localhost:8080/"
        },
        "id": "Qr2iwgwsk9s0",
        "outputId": "95342d2a-8700-44f1-d9a0-c883138aa7fe"
      },
      "source": [
        "print(\"Sua idade deve ser: \")\n",
        "idade = 2021 - int(ano_nascimento)        # Existe mais de uma forma de fazer esse código.\n",
        "print(idade)"
      ],
      "execution_count": null,
      "outputs": [
        {
          "output_type": "stream",
          "name": "stdout",
          "text": [
            "Sua idade deve ser: \n",
            "31\n"
          ]
        }
      ]
    },
    {
      "cell_type": "markdown",
      "metadata": {
        "id": "_U2VGYX_ueyX"
      },
      "source": [
        "## Entendendo os tipos\n",
        "\n",
        "Cada valor utilizado em Python (seja literal ou armazenado em uma variável) possui um **tipo**. O tipo irá definir que tipos de operações podemos fazer com aquele valor, por exemplo: com um valor numérico podemos executar as seguintes operações matemáticas:\n",
        "\n",
        "* Soma: `1 + 2` (devolve `3`)\n",
        "* Subtração: `4 - 1 `(devolve `3`)\n",
        "* Multiplicação: `3 * 4` (devolve `12`)\n",
        "* Divisão: `5 / 2 `(devolve `2.5`)\n",
        "* Divisão inteira: `13 // 3` (devolve `4`)\n",
        "* Resto da divisão inteira: `13 % 3` (devolve `1`)\n",
        "* Exponenciação: `2 ** 10` (devolve `1024`)\n",
        "\n",
        "Lembre-se: as operações possuem precedência (como na matemática), então na expressão `3 + 4 * 2 ` primeiro será computado `4 * 2`, para então o resultado ser somado a `3`, resultando em `11`. Você pode trocar a precedência utilizando parenteses, por exemplo: `(3 + 4) * 2` resulta em `14`.\n",
        "\n",
        "A função `type` nos ajuda a identificar o tipo dos valores que passamos para ela:"
      ]
    },
    {
      "cell_type": "code",
      "metadata": {
        "colab": {
          "base_uri": "https://localhost:8080/"
        },
        "id": "w6pHdeghvYo9",
        "outputId": "79ec9a28-af0a-422d-d8e1-d54cf10d8c03"
      },
      "source": [
        "print(type(\"Olá, mundo!\"))          # srt -> string, texto\n",
        "print(type(\"42\"))         # str -> também é uma string, o numeral está entre aspas\n",
        "print(type('42'))         # str -> tanto faz o uso de ' ou \"\n",
        "print(type(42))         # int -> integer, número inteiro\n",
        "print(type(3.14))         # float -> floating point number, número com casas decimais.\n",
        "# Atenção! Sempre utilizar \".\" e não a \",\" como separador decimal\n",
        "print(type(3 + 4j))         # complex -> número complexo\n",
        "print(type(3 > 4))          # bool -> booleano, verdadeiro / falso."
      ],
      "execution_count": null,
      "outputs": [
        {
          "output_type": "stream",
          "name": "stdout",
          "text": [
            "<class 'str'>\n",
            "<class 'str'>\n",
            "<class 'str'>\n",
            "<class 'int'>\n",
            "<class 'float'>\n",
            "<class 'complex'>\n",
            "<class 'bool'>\n"
          ]
        }
      ]
    },
    {
      "cell_type": "markdown",
      "metadata": {
        "id": "k5XXLeDHwsQk"
      },
      "source": [
        "## Concatenando variáveis com texto literal\n",
        "\n",
        "Vamos melhorar o texto de saída colocando tudo na mesma linha. Para isso, precisaremos **concatenar** i texti com o valor da expressão aritmética."
      ]
    },
    {
      "cell_type": "code",
      "metadata": {
        "colab": {
          "base_uri": "https://localhost:8080/"
        },
        "id": "3wJsM01DppRj",
        "outputId": "ee304a73-8c8e-4385-dfd7-f5aba1941157"
      },
      "source": [
        "altura = input(\"Digite sua altura: \")\n",
        "altura_numerica = float(altura)\n",
        "print(altura_numerica - 1)"
      ],
      "execution_count": null,
      "outputs": [
        {
          "output_type": "stream",
          "name": "stdout",
          "text": [
            "Digite sua altura: 1.6\n",
            "0.6000000000000001\n"
          ]
        }
      ]
    },
    {
      "cell_type": "code",
      "metadata": {
        "colab": {
          "base_uri": "https://localhost:8080/"
        },
        "id": "b0AVnpVJqpIX",
        "outputId": "6dc9fcbe-22c5-4255-c61e-39b5c3db7d08"
      },
      "source": [
        "print(\"Censo 2021, estilo faça-você mesmo: \")\n",
        "nome = input(\"Qual seu nome? \")\n",
        "ano_nascimento = input(\"Em que ano você nasceu? \")\n",
        "possivel_idade = 2021 - int(ano_nascimento)\n",
        "print(\"Você deve ter \" + str(possivel_idade) + \" anos.\")"
      ],
      "execution_count": null,
      "outputs": [
        {
          "output_type": "stream",
          "name": "stdout",
          "text": [
            "Censo 2021, estilo faça-você mesmo: \n",
            "Qual seu nome? Jéssica\n",
            "Em que ano você nasceu? 1990\n",
            "Você deve ter 31 anos.\n"
          ]
        }
      ]
    },
    {
      "cell_type": "code",
      "metadata": {
        "colab": {
          "base_uri": "https://localhost:8080/"
        },
        "id": "OumQa9WFsM82",
        "outputId": "da5182d9-2d1a-4253-ea4c-c563ff8d44c5"
      },
      "source": [
        "print(f\"Você deve ter {possivel_idade} anos\")"
      ],
      "execution_count": null,
      "outputs": [
        {
          "output_type": "stream",
          "name": "stdout",
          "text": [
            "Você deve ter 31 anos\n"
          ]
        }
      ]
    },
    {
      "cell_type": "markdown",
      "metadata": {
        "id": "gi5ksfT9yYXD"
      },
      "source": [
        "## Exercício: cálculo da média\n",
        "\n",
        "\n",
        "* Peça ao usuário dois npumeros inteiros de 0 a 10 e armazene-os (um por vez);\n",
        "* Calcule a média e armazene-a em uma variável;\n",
        "* Mostre na tela o resultado acompanhado do texto: \"A média dos números é: x\".\n",
        "\n"
      ]
    },
    {
      "cell_type": "code",
      "metadata": {
        "colab": {
          "base_uri": "https://localhost:8080/"
        },
        "id": "AD7CD240tIdO",
        "outputId": "dde49726-5be6-4871-fac0-31b0d829f9e8"
      },
      "source": [
        "nome = input(\"Olá, qual o seu nome? \")\n",
        "numero1 = input(nome + \", digite um número de 0 a 10: \")\n",
        "numero2 = input(\"Digite outro número de 0 a 10: \")\n",
        "media = (int(numero1) + int(numero2)) / 2\n",
        "print(f\"{nome}, a sua média é {media}.\")"
      ],
      "execution_count": null,
      "outputs": [
        {
          "output_type": "stream",
          "name": "stdout",
          "text": [
            "Olá, qual o seu nome? Jéssica\n",
            "Jéssica, digite um número de 0 a 10: 0\n",
            "Digite outro número de 0 a 10: 10\n",
            "Jéssica, a sua média é 5.0.\n"
          ]
        }
      ]
    },
    {
      "cell_type": "markdown",
      "metadata": {
        "id": "Y1xO1gIs0KJo"
      },
      "source": [
        "Se os números acima fosse as notas de uma pessoa em determinada disciplina, poderíamos mostrar o resultado e a mensagem se passou ou não passou. Para fazer essas verificação, precisamos utilizar a estrutura `if`/`else`:\n",
        "\n",
        "\n",
        "```python\n",
        "if condição:\n",
        "  comando_caso_condição_seja_verdadeira\n",
        "else:\n",
        "  comando_caso_condição_seja_falsa\n",
        "```\n",
        "\n",
        "Apenas um dos comandos acima será exeutado, dependendo do valor da condição (`True` ou `False`). Repare que os comandos ficam mais a direita do `if` e `else`, isso é chamado de **identação.**\n"
      ]
    },
    {
      "cell_type": "code",
      "metadata": {
        "colab": {
          "base_uri": "https://localhost:8080/"
        },
        "id": "AdNn7wQLx2v-",
        "outputId": "87ea7682-8242-41be-afff-1532c20a83d4"
      },
      "source": [
        "if media >= 6.0:\n",
        "  print(\"Parabéns, você passou!\")\n",
        "else:\n",
        "  print(\"Poxa, não foi dessa vez.\")"
      ],
      "execution_count": null,
      "outputs": [
        {
          "output_type": "stream",
          "name": "stdout",
          "text": [
            "Poxa, não foi dessa vez.\n"
          ]
        }
      ]
    },
    {
      "cell_type": "markdown",
      "metadata": {
        "id": "vNYvJcQ81oLA"
      },
      "source": [
        "Podemos utilizar diversos operadoers em nossas condições, tais como:\n",
        "\n",
        "* `a > b`: verifica se `a` é **maior** que `b`;\n",
        "* `a >= b`: verifica se `a` é **maior ou igual** a `b`;\n",
        "* `a < b`: verifica se `a` é **menor** que `b`;\n",
        "* `a <= b`: verifica se `a` é **menor ou igual** a `b`;\n",
        "* `a == b`: verifica se `a` é **igual** a `b`;\n",
        "  * `=` é um **operador de atribuição**, enquanto que `==` **verifica a igualdade**;\n",
        "* `a != b`; verifica se `a` é **diferente** de `b`.\n",
        "\n",
        "Podemos também compor as condições utilizando os operadores `and` e `or`, mas atente-se: `and` sempre terá precedência sobre `or`, ou seja, na expressão `x or y and z` primeiro será compultado `y and z` (vamos chamar de \"resultado1\") para depois computar `x or resultado1`. Além disso, podemo **negar** uma condição com not, exemplos:\n",
        "\n",
        "* `not a == b` é o equivalente a `a != b`;\n",
        "* `not a > b` é o equivalente a `a <= b`."
      ]
    },
    {
      "cell_type": "code",
      "metadata": {
        "id": "Pc62SE-x0dFj"
      },
      "source": [
        "if media < 6 and media > 5:\n",
        "  print(\"Caramba, foi quase!\")\n",
        "if media < 0 or media > 10:\n",
        "  print(\"Opa, tem algo errado aí.\")"
      ],
      "execution_count": null,
      "outputs": []
    },
    {
      "cell_type": "markdown",
      "metadata": {
        "id": "FBLppoav3ikc"
      },
      "source": [
        "Além do `if` e do `else`, podemos ter condições intermediárias, onde utilizamos a palavra `elif`."
      ]
    },
    {
      "cell_type": "code",
      "metadata": {
        "colab": {
          "base_uri": "https://localhost:8080/"
        },
        "id": "HH7zatTw1VYT",
        "outputId": "c953c54e-328a-4ffb-ef34-00397a8fe19b"
      },
      "source": [
        "if media < 5:\n",
        "  print(\"Estude mais!\")\n",
        "elif media < 6:\n",
        "  print(\"Quase :(\")\n",
        "elif media == 6:\n",
        "  print(\"Ufa, na mosca!\")\n",
        "elif media < 8:\n",
        "  print(\"Passou!\")\n",
        "else:\n",
        "  print(\"Arrebentou!\")\n",
        "print(\"Fim\")"
      ],
      "execution_count": null,
      "outputs": [
        {
          "output_type": "stream",
          "name": "stdout",
          "text": [
            "Quase :(\n",
            "Fim\n"
          ]
        }
      ]
    },
    {
      "cell_type": "code",
      "metadata": {
        "colab": {
          "base_uri": "https://localhost:8080/"
        },
        "id": "bmaWBvQb4x21",
        "outputId": "3a3482e4-4741-4b28-8472-d755ff0e4167"
      },
      "source": [
        "numero1 = input(\"Escolha um número inteiro de 0 a 10: \")\n",
        "numero2 = input(\"Escolha outro número inteiro de 0 a 10: \")\n",
        "media = ((int(numero1) + int(numero2))/2)\n",
        "print(f\"A média do número {numero1} e do número {numero2} é: {media}\")\n",
        "\n",
        "if media < 5:         # Pode ser usado sozinho\n",
        "  print(\"Estude mais!\")\n",
        "elif media < 6:         # Opicional\n",
        "  print(\"Foi quase!\")\n",
        "elif media == 6:\n",
        "  print(\"Uffa, na mosca!\")\n",
        "elif media < 8:\n",
        "  print(\"Passou!\")\n",
        "else:         # Necessariamente precisa do if\n",
        "  print(\"Arrasou!\")\n",
        "print(\"Fim\")"
      ],
      "execution_count": null,
      "outputs": [
        {
          "output_type": "stream",
          "name": "stdout",
          "text": [
            "Escolha um número inteiro de 0 a 10: 2\n",
            "Escolha outro número inteiro de 0 a 10: 10\n",
            "A média do número 2 e do número 10 é: 6.0\n",
            "Uffa, na mosca!\n",
            "Fim\n"
          ]
        }
      ]
    }
  ]
}