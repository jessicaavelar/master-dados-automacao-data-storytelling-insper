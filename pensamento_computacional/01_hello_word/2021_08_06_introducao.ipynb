{
  "nbformat": 4,
  "nbformat_minor": 0,
  "metadata": {
    "colab": {
      "name": "2021-08-06_introducao.ipynb",
      "provenance": [],
      "collapsed_sections": []
    },
    "kernelspec": {
      "name": "python3",
      "display_name": "Python 3"
    },
    "language_info": {
      "name": "python"
    }
  },
  "cells": [
    {
      "cell_type": "code",
      "metadata": {
        "colab": {
          "base_uri": "https://localhost:8080/"
        },
        "id": "9s_CL6AidO5t",
        "outputId": "6971ce86-d721-429c-e0b1-8a2cbb633d50"
      },
      "source": [
        "print(\"Olá, mundo!\")"
      ],
      "execution_count": null,
      "outputs": [
        {
          "output_type": "stream",
          "name": "stdout",
          "text": [
            "Olá, mundo!\n"
          ]
        }
      ]
    },
    {
      "cell_type": "code",
      "metadata": {
        "colab": {
          "base_uri": "https://localhost:8080/"
        },
        "id": "QLMFiRaVm649",
        "outputId": "50a7b503-11c9-47e0-cb32-4e368d9467d8"
      },
      "source": [
        "print(\"Estou aprendendo Python!\")"
      ],
      "execution_count": null,
      "outputs": [
        {
          "output_type": "stream",
          "name": "stdout",
          "text": [
            "Estou aprendendo Python!\n"
          ]
        }
      ]
    },
    {
      "cell_type": "code",
      "metadata": {
        "colab": {
          "base_uri": "https://localhost:8080/"
        },
        "id": "s5SaL5MynmUn",
        "outputId": "74f41440-182b-4a83-8ae1-d96089b5d8d6"
      },
      "source": [
        "nome = input(\"Qual o seu nome? \")\n",
        "print(\"Olá, \" + nome)         "
      ],
      "execution_count": null,
      "outputs": [
        {
          "output_type": "stream",
          "name": "stdout",
          "text": [
            "Qual o seu nome? Jéssica\n",
            "Olá, Jéssica\n"
          ]
        }
      ]
    }
  ]
}