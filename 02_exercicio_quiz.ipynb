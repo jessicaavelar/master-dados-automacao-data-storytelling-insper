{
  "nbformat": 4,
  "nbformat_minor": 0,
  "metadata": {
    "colab": {
      "name": "02_exercicio_quiz.ipynb",
      "provenance": [],
      "collapsed_sections": [],
      "authorship_tag": "ABX9TyMeDlJFkS7mAodocB7exhKQ",
      "include_colab_link": true
    },
    "kernelspec": {
      "name": "python3",
      "display_name": "Python 3"
    },
    "language_info": {
      "name": "python"
    }
  },
  "cells": [
    {
      "cell_type": "markdown",
      "metadata": {
        "id": "view-in-github",
        "colab_type": "text"
      },
      "source": [
        "<a href=\"https://colab.research.google.com/github/jessicaavelar/master-dados-automacao-data-storytelling-insper/blob/main/02_exercicio_quiz.ipynb\" target=\"_parent\"><img src=\"https://colab.research.google.com/assets/colab-badge.svg\" alt=\"Open In Colab\"/></a>"
      ]
    },
    {
      "cell_type": "markdown",
      "metadata": {
        "id": "p9_ESyWn5g98"
      },
      "source": [
        "## Exercício em grupo:\n",
        "\n",
        "*Notebook com o exercício da aula 02 de \"Pensamento Computacional\" do Master em Jornalismo de Dados, Automação e Data Storytelling do Insper, disciplina ministrada pelo Álvaro Justen.*\n",
        "\n",
        "*Grupo: Jéssica Avelar, Larissa Sayuri e Renan Cavalcante.*"
      ]
    },
    {
      "cell_type": "code",
      "metadata": {
        "colab": {
          "base_uri": "https://localhost:8080/"
        },
        "id": "PdBloC1X5bJ3",
        "outputId": "221afce8-8538-4e36-a029-dce03f7a0d3b"
      },
      "source": [
        "print(\"Quiz COVID-19\")\n",
        "nome = input(\"\\nQual o seu nome? \")\n",
        "print(nome + \", vamos ver o quanto você está sabedo sobre a COVID-19!?\")"
      ],
      "execution_count": 1,
      "outputs": [
        {
          "output_type": "stream",
          "name": "stdout",
          "text": [
            "Quiz COVID-19\n",
            "\n",
            "Qual o seu nome? Jéssica\n",
            "Jéssica, vamos ver o quanto você está sabedo sobre a COVID-19!?\n"
          ]
        }
      ]
    },
    {
      "cell_type": "code",
      "metadata": {
        "colab": {
          "base_uri": "https://localhost:8080/"
        },
        "id": "jF-7xrEx8Q5v",
        "outputId": "86fb7436-fb5b-4921-b220-a9f5e69d242c"
      },
      "source": [
        "pontos = 0          # Variável de contagem total de acertos\n",
        "\n",
        "print(\"\\nPergunta 1:\")\n",
        "print(\"\\nQuantas cidades diferentes têm registros de COVID-19?\")\n",
        "print(\"\\nA - 5530, ou 99,28% dos 5.570 municípios brasileiros.\")\n",
        "print(\"B - 5292, ou 95% dos 5.570 municípios brasileiros.\")\n",
        "print(\"C - 5003, ou 89,82% dos 5.570 municípios brasileiros.\")\n",
        "print(\"D - 4568, ou 82,01% dos 5.570 municípios brasileiros.\")\n",
        "\n",
        "resposta1 = input(\"\\nQual a alternativa correta? \")\n",
        "\n",
        "if resposta1 == \"A\" or resposta1 == \"a\":\n",
        "  print(\"Parabéns! 5530, ou 99,28% dos 5.570 municípios brasileiros tem registros de COVID-19.\")\n",
        "  pontos = pontos + 1\n",
        "elif resposta1 == \"B\" or resposta1 == \"b\":\n",
        "  print(\"A resposta correta é A, de acordo com: https://www.cnnbrasil.com.br/saude/2021/07/06/40-cidades-do-pais-nao-registraram-mortes-por-covid-desde-o-inicio-da-pandemia\")\n",
        "elif resposta1 == \"C\" or resposta1 == \"c\":\n",
        "  print(\"A resposta correta é A, de acordo com: https://www.cnnbrasil.com.br/saude/2021/07/06/40-cidades-do-pais-nao-registraram-mortes-por-covid-desde-o-inicio-da-pandemia\")\n",
        "elif resposta1 == \"D\" or resposta1 == \"d\":\n",
        "  print(\"A resposta correta é A, de acordo com: https://www.cnnbrasil.com.br/saude/2021/07/06/40-cidades-do-pais-nao-registraram-mortes-por-covid-desde-o-inicio-da-pandemia\")\n",
        "else:\n",
        "  print(\"Resposta inválida.\")         # aqui é que se a pessoa colocar uma letra diferente das opções retorna o erro.\n",
        "\n",
        "print(\"\\n--------------------------------------------------------------------\")\n",
        "print(\"\\nPergunta 2:\")\n",
        "print(\"Com 2.687.651 registros, o Brasil registra o menor número de nascimentos em 26 anos. Esse número equivale a quantos % dos registros de 2019?\")\n",
        "print(\"\\nA - 12%.\")\n",
        "print(\"B - 7,99%.\")\n",
        "print(\"C - 7,20%.\")\n",
        "print(\"D - 5,60%.\")\n",
        "\n",
        "resposta2 = input(\"\\nQual a alternativa correta? \")\n",
        "\n",
        "if resposta2 == \"D\" or resposta2 == \"d\":\n",
        "  print(\"Parabéns! 5,60% é o decreścimo do número total de nascimentos no Brasil em 2020 em relação a 2019.\")\n",
        "  pontos = pontos + 1\n",
        "elif resposta2 == \"A\" or resposta2 == \"a\":\n",
        "    print(\"A resposta correta é D, de acordo com: https://www.cnnbrasil.com.br/nacional/2021/08/08/com-pandemia-numero-de-nascimentos-no-pais-em-2020-e-o-menor-em-26-anos\")\n",
        "elif resposta2 == \"B\" or resposta2 == \"b\":\n",
        "  print(\"A resposta correta é D, de acordo com: https://www.cnnbrasil.com.br/nacional/2021/08/08/com-pandemia-numero-de-nascimentos-no-pais-em-2020-e-o-menor-em-26-anos\")\n",
        "elif resposta2 == \"C\" or resposta2 == \"c\":\n",
        "  print(\"A resposta correta é D, de acordo com: https://www.cnnbrasil.com.br/nacional/2021/08/08/com-pandemia-numero-de-nascimentos-no-pais-em-2020-e-o-menor-em-26-anos\")\n",
        "else:\n",
        "  print(\"Resposta inválida\")\n",
        "\n",
        "print(\"\\n--------------------------------------------------------------------\")   \n",
        "print(\"\\nPergunta 3:\")\n",
        "print(\"O número de mortes por causas naturais (as que ocorreram por doenças) aumentou em mais de 275 mil casos em relação ao que era esperado em 2020. Isso corresponde a um aumento de quantos %?\")\n",
        "print(\"\\nA - 13%.\")\n",
        "print(\"B - 17%.\")\n",
        "print(\"C - 22%.\")\n",
        "print(\"D - 33%.\")\n",
        "\n",
        "resposta3 = input(\"\\nQual a alternativa correta? \")\n",
        "\n",
        "if resposta3 == \"C\" or resposta3 == \"c\":\n",
        "  print(\"Parabéns! Em 2020, o número de mortes por causas naturais aumentou 22% em relação ao que era esperado.\")\n",
        "  pontos = pontos + 1\n",
        "elif resposta3 == \"A\" or resposta3 == \"a\":\n",
        "  print(\"A resposta correta é C, de acordo com: https://g1.globo.com/ciencia-e-saude/noticia/2021/03/29/brasil-registra-em-2020-numero-de-mortes-22percent-maior-do-que-era-esperado-aponta-levantamento.ghtml\")\n",
        "elif resposta3 == \"B\" or resposta3 == \"b\":\n",
        "  print(\"A resposta correta é C, de acordo com: https://g1.globo.com/ciencia-e-saude/noticia/2021/03/29/brasil-registra-em-2020-numero-de-mortes-22percent-maior-do-que-era-esperado-aponta-levantamento.ghtml\")\n",
        "elif resposta3 == \"D\" or resposta3 == \"d\":\n",
        "  print(\"A resposta correta é C, de acordo com: https://g1.globo.com/ciencia-e-saude/noticia/2021/03/29/brasil-registra-em-2020-numero-de-mortes-22percent-maior-do-que-era-esperado-aponta-levantamento.ghtml\")\n",
        "else:\n",
        "  print(\"Resposta inválida\")\n",
        "\n",
        "print(\"\\n--------------------------------------------------------------------\")\n",
        "print(\"\\nPergunta 4:\")\n",
        "print(\"Atualmente, quantas vacinas contra a COVID-19 estão em desenvolvimento no Brasil?\")\n",
        "print(\"\\nA - 15.\")\n",
        "print(\"B - 18.\")\n",
        "print(\"C - 20.\")\n",
        "print(\"D - 21.\")\n",
        "\n",
        "resposta4 = input(\"\\nQual a alternativa correta? \")\n",
        "\n",
        "if resposta4 == \"B\" or resposta4 == \"b\":\n",
        "  print(\"Parabéns! No Brasil atualmente, há 18 vacinas sendo desenvolvidas.\")\n",
        "  pontos = pontos + 1\n",
        "elif resposta4 == \"A\" or resposta4 == \"a\":\n",
        "  print(\"A resposta correta é B, de acordo com: https://g1.globo.com/jornal-da-globo/noticia/2021/06/01/brasil-tem-18-vacinas-contra-a-covid-19-em-desenvolvimento-diz-governo.ghtml\")  \n",
        "elif resposta4 == \"C\" or resposta4 == \"c\":\n",
        "  print(\"A resposta correta é B, de acordo com: https://g1.globo.com/jornal-da-globo/noticia/2021/06/01/brasil-tem-18-vacinas-contra-a-covid-19-em-desenvolvimento-diz-governo.ghtml\")\n",
        "elif resposta4 == \"D\" or resposta4 == \"d\":\n",
        "  print(\"A resposta correta é B, de acordo com: https://g1.globo.com/jornal-da-globo/noticia/2021/06/01/brasil-tem-18-vacinas-contra-a-covid-19-em-desenvolvimento-diz-governo.ghtml\")\n",
        "else:\n",
        "  print(\"Resposta inválida\")\n",
        "\n",
        "print(\"\\n--------------------------------------------------------------------\")\n",
        "print(\"\\nPergunta 5:\")\n",
        "print(\"Quais países da América do Sul optaram por aplicar a 3ª dose da vacina?\")\n",
        "print(\"     \")\n",
        "print(\"A - Chile e Argentina\")\n",
        "print(\"B - Argentina e Uruguai\")\n",
        "print(\"C - Chile\")\n",
        "print(\"D - Chile e Uruguai\")\n",
        "\n",
        "resposta5 = input(\"Qual a alternativa correta? \")\n",
        "\n",
        "if resposta5 == \"A\" or resposta5 == \"a\":\n",
        "  print(\"A resposta correta é D, de acordo com: https://www.cnnbrasil.com.br/saude/2021/07/31/veja-quais-paises-ja-aprovaram-a-terceira-dose-da-vacina-contra-a-covid-19 e https://brasil.elpais.com/internacional/2021-08-12/chile-e-o-primeiro-pais-da-america-do-sul-a-aplicar-3-dose-da-vacina-contra-a-covid-19.html\")\n",
        "elif resposta5 == \"B\" or resposta5 == \"b\":\n",
        "  print(\"A resposta correta é D, de acordo com: https://www.cnnbrasil.com.br/saude/2021/07/31/veja-quais-paises-ja-aprovaram-a-terceira-dose-da-vacina-contra-a-covid-19 e https://brasil.elpais.com/internacional/2021-08-12/chile-e-o-primeiro-pais-da-america-do-sul-a-aplicar-3-dose-da-vacina-contra-a-covid-19.html\")\n",
        "elif resposta5 == \"C\" or resposta5 == \"c\":\n",
        "  print(\"A resposta correta é D, de acordo com: https://www.cnnbrasil.com.br/saude/2021/07/31/veja-quais-paises-ja-aprovaram-a-terceira-dose-da-vacina-contra-a-covid-19 e https://brasil.elpais.com/internacional/2021-08-12/chile-e-o-primeiro-pais-da-america-do-sul-a-aplicar-3-dose-da-vacina-contra-a-covid-19.html\")\n",
        "elif resposta5 == \"D\" or resposta5 == \"d\":\n",
        "  pontos = pontos + 1\n",
        "  print(\"Isso mesmo, de acordo com: https://www.cnnbrasil.com.br/saude/2021/07/31/veja-quais-paises-ja-aprovaram-a-terceira-dose-da-vacina-contra-a-covid-19 e https://brasil.elpais.com/internacional/2021-08-12/chile-e-o-primeiro-pais-da-america-do-sul-a-aplicar-3-dose-da-vacina-contra-a-covid-19.html\")\n",
        "else:\n",
        "  print(\"Resposta inválida\")    "
      ],
      "execution_count": 2,
      "outputs": [
        {
          "output_type": "stream",
          "name": "stdout",
          "text": [
            "\n",
            "Pergunta 1:\n",
            "\n",
            "Quantas cidades diferentes têm registros de COVID-19?\n",
            "\n",
            "A - 5530, ou 99,28% dos 5.570 municípios brasileiros.\n",
            "B - 5292, ou 95% dos 5.570 municípios brasileiros.\n",
            "C - 5003, ou 89,82% dos 5.570 municípios brasileiros.\n",
            "D - 4568, ou 82,01% dos 5.570 municípios brasileiros.\n",
            "\n",
            "Qual a alternativa correta? A\n",
            "Parabéns! 5530, ou 99,28% dos 5.570 municípios brasileiros tem registros de COVID-19.\n",
            "\n",
            "--------------------------------------------------------------------\n",
            "\n",
            "Pergunta 2:\n",
            "Com 2.687.651 registros, o Brasil registra o menor número de nascimentos em 26 anos. Esse número equivale a quantos % dos registros de 2019?\n",
            "\n",
            "A - 12%.\n",
            "B - 7,99%.\n",
            "C - 7,20%.\n",
            "D - 5,60%.\n",
            "\n",
            "Qual a alternativa correta? b\n",
            "A resposta correta é D, de acordo com: https://www.cnnbrasil.com.br/nacional/2021/08/08/com-pandemia-numero-de-nascimentos-no-pais-em-2020-e-o-menor-em-26-anos\n",
            "\n",
            "--------------------------------------------------------------------\n",
            "\n",
            "Pergunta 3:\n",
            "O número de mortes por causas naturais (as que ocorreram por doenças) aumentou em mais de 275 mil casos em relação ao que era esperado em 2020. Isso corresponde a um aumento de quantos %?\n",
            "\n",
            "A - 13%.\n",
            "B - 17%.\n",
            "C - 22%.\n",
            "D - 33%.\n",
            "\n",
            "Qual a alternativa correta? c\n",
            "Parabéns! Em 2020, o número de mortes por causas naturais aumentou 22% em relação ao que era esperado.\n",
            "\n",
            "--------------------------------------------------------------------\n",
            "\n",
            "Pergunta 4:\n",
            "Atualmente, quantas vacinas contra a COVID-19 estão em desenvolvimento no Brasil?\n",
            "\n",
            "A - 15.\n",
            "B - 18.\n",
            "C - 20.\n",
            "D - 21.\n",
            "\n",
            "Qual a alternativa correta? d\n",
            "A resposta correta é B, de acordo com: https://g1.globo.com/jornal-da-globo/noticia/2021/06/01/brasil-tem-18-vacinas-contra-a-covid-19-em-desenvolvimento-diz-governo.ghtml\n",
            "\n",
            "--------------------------------------------------------------------\n",
            "\n",
            "Pergunta 5:\n",
            "Quais países da América do Sul optaram por aplicar a 3ª dose da vacina?\n",
            "     \n",
            "A - Chile e Argentina\n",
            "B - Argentina e Uruguai\n",
            "C - Chile\n",
            "D - Chile e Uruguai\n",
            "Qual a alternativa correta? e\n",
            "Resposta inválida\n"
          ]
        }
      ]
    },
    {
      "cell_type": "code",
      "metadata": {
        "colab": {
          "base_uri": "https://localhost:8080/"
        },
        "id": "GP05054R93Oe",
        "outputId": "3e6fe4ef-9584-4333-f5f5-668eb266f507"
      },
      "source": [
        "print(\"\\n--------------------------------------------------------------------\")\n",
        "print('\\nObrigada por participar desse quiz!')\n",
        "print(nome + f\", sua nota é {pontos}.\")\n",
        "\n",
        "if pontos == 0 or pontos == 1:\n",
        "  print(\"\\nTem muita coisa acontecendo, né? Espero que o quiz tenha te ajudado a assimilar um pouco a mais.\")\n",
        "elif pontos == 2 or pontos == 3:\n",
        "  print(\"\\nTem muita coisa acontecendo, né? Continue se informando!\")\n",
        "else:\n",
        "  print(\"\\nParabéns! Vc está por dentro de tudo!\")"
      ],
      "execution_count": 6,
      "outputs": [
        {
          "output_type": "stream",
          "name": "stdout",
          "text": [
            "\n",
            "--------------------------------------------------------------------\n",
            "\n",
            "Obrigada por participar desse quiz!\n",
            "Jéssica, sua nota é 2.\n",
            "\n",
            "Parabéns! Vc está por dentro de tudo!\n"
          ]
        }
      ]
    }
  ]
}